{
  "nbformat": 4,
  "nbformat_minor": 0,
  "metadata": {
    "colab": {
      "name": "Sentiment_Analysis_Model.ipynb",
      "provenance": [],
      "collapsed_sections": [],
      "include_colab_link": true
    },
    "kernelspec": {
      "display_name": "Python 3",
      "name": "python3"
    },
    "language_info": {
      "name": "python"
    }
  },
  "cells": [
    {
      "cell_type": "markdown",
      "metadata": {
        "id": "view-in-github",
        "colab_type": "text"
      },
      "source": [
        "<a href=\"https://colab.research.google.com/github/Agentum07/tomatinator/blob/main/Sentiment_Analysis_Model.ipynb\" target=\"_parent\"><img src=\"https://colab.research.google.com/assets/colab-badge.svg\" alt=\"Open In Colab\"/></a>"
      ]
    },
    {
      "cell_type": "code",
      "metadata": {
        "id": "LyKiD_uJdc5x"
      },
      "source": [
        "import tweepy\n",
        "from textblob import TextBlob\n",
        "from textblob import Word\n",
        "from wordcloud import WordCloud\n",
        "import pandas as pd\n",
        "import numpy as np\n",
        "import re \n",
        "import matplotlib.pyplot as plt\n",
        "plt.style.use('fivethirtyeight')\n",
        "from wordcloud import WordCloud,ImageColorGenerator\n",
        "from PIL import Image\n",
        "import urllib\n",
        "import requests\n",
        "import nltk"
      ],
      "execution_count": null,
      "outputs": []
    },
    {
      "cell_type": "markdown",
      "metadata": {
        "id": "dakhoiIxkT8p"
      },
      "source": [
        ""
      ]
    },
    {
      "cell_type": "code",
      "metadata": {
        "colab": {
          "base_uri": "https://localhost:8080/"
        },
        "id": "E5kLBqlvdyjH",
        "outputId": "670326da-7696-4a67-8077-f67867eb3914"
      },
      "source": [
        "flag = True\n",
        "lines2 = []\n",
        "while flag:\n",
        "  val = input(\"Enter the text: \")\n",
        "  lines2.append(val)\n",
        "  ans = input(\"do u want to enter another tweet y/n? \")\n",
        "  flag = ans == 'y'\n"
      ],
      "execution_count": null,
      "outputs": [
        {
          "output_type": "stream",
          "text": [
            "Enter the text: i had an amazing day because his sucked lol\n",
            "do u want to enter another tweet y/n? n\n"
          ],
          "name": "stdout"
        }
      ]
    },
    {
      "cell_type": "code",
      "metadata": {
        "colab": {
          "base_uri": "https://localhost:8080/",
          "height": 94
        },
        "id": "vXQZX_TYfHPg",
        "outputId": "7319d2ce-4834-4861-abe4-072b2215db77"
      },
      "source": [
        "#Create a dataframe with coloumn called tweet\n",
        "print(lines2)\n",
        "df = pd.DataFrame({'Tweets' : lines2})\n",
        "\n",
        "df.head()"
      ],
      "execution_count": null,
      "outputs": [
        {
          "output_type": "stream",
          "text": [
            "['i had an amazing day because his sucked lol']\n"
          ],
          "name": "stdout"
        },
        {
          "output_type": "execute_result",
          "data": {
            "text/html": [
              "<div>\n",
              "<style scoped>\n",
              "    .dataframe tbody tr th:only-of-type {\n",
              "        vertical-align: middle;\n",
              "    }\n",
              "\n",
              "    .dataframe tbody tr th {\n",
              "        vertical-align: top;\n",
              "    }\n",
              "\n",
              "    .dataframe thead th {\n",
              "        text-align: right;\n",
              "    }\n",
              "</style>\n",
              "<table border=\"1\" class=\"dataframe\">\n",
              "  <thead>\n",
              "    <tr style=\"text-align: right;\">\n",
              "      <th></th>\n",
              "      <th>Tweets</th>\n",
              "    </tr>\n",
              "  </thead>\n",
              "  <tbody>\n",
              "    <tr>\n",
              "      <th>0</th>\n",
              "      <td>i had an amazing day because his sucked lol</td>\n",
              "    </tr>\n",
              "  </tbody>\n",
              "</table>\n",
              "</div>"
            ],
            "text/plain": [
              "                                        Tweets\n",
              "0  i had an amazing day because his sucked lol"
            ]
          },
          "metadata": {
            "tags": []
          },
          "execution_count": 15
        }
      ]
    },
    {
      "cell_type": "code",
      "metadata": {
        "colab": {
          "base_uri": "https://localhost:8080/",
          "height": 77
        },
        "id": "ck8T7OzOfp91",
        "outputId": "05678642-aae0-4cc2-a35b-3c89943948fb"
      },
      "source": [
        "#Clean the text\n",
        "def cleanText(text):\n",
        "  text = re.sub(r'@[A-za-z0-9]+' , '', text) #Remove mentions\n",
        "  text = re.sub(r'RT[\\s]+', '', text) #remove retweets\n",
        "  text = re.sub(r'https?:\\/\\/\\S+', '', text) #remove hyperlinks\n",
        "\n",
        "  return text \n",
        "\n",
        "#Clean the text\n",
        "df['Tweets'] = df['Tweets'].apply(cleanText)\n",
        "\n",
        "#Show the cleaned text\n",
        "df\n",
        "\n"
      ],
      "execution_count": null,
      "outputs": [
        {
          "output_type": "execute_result",
          "data": {
            "text/html": [
              "<div>\n",
              "<style scoped>\n",
              "    .dataframe tbody tr th:only-of-type {\n",
              "        vertical-align: middle;\n",
              "    }\n",
              "\n",
              "    .dataframe tbody tr th {\n",
              "        vertical-align: top;\n",
              "    }\n",
              "\n",
              "    .dataframe thead th {\n",
              "        text-align: right;\n",
              "    }\n",
              "</style>\n",
              "<table border=\"1\" class=\"dataframe\">\n",
              "  <thead>\n",
              "    <tr style=\"text-align: right;\">\n",
              "      <th></th>\n",
              "      <th>Tweets</th>\n",
              "    </tr>\n",
              "  </thead>\n",
              "  <tbody>\n",
              "    <tr>\n",
              "      <th>0</th>\n",
              "      <td>i had an amazing day because his sucked lol</td>\n",
              "    </tr>\n",
              "  </tbody>\n",
              "</table>\n",
              "</div>"
            ],
            "text/plain": [
              "                                        Tweets\n",
              "0  i had an amazing day because his sucked lol"
            ]
          },
          "metadata": {
            "tags": []
          },
          "execution_count": 16
        }
      ]
    },
    {
      "cell_type": "code",
      "metadata": {
        "colab": {
          "base_uri": "https://localhost:8080/",
          "height": 77
        },
        "id": "3tBVL2wpgqjw",
        "outputId": "b58b0bf8-9820-410d-abd3-c91f60f8f9ea"
      },
      "source": [
        "#Create a function to get the subjectivity\n",
        "def getSubjectivity(text):\n",
        "  return TextBlob(text).sentiment.subjectivity \n",
        "\n",
        "#Create a function to get polarity\n",
        "def getPolarity(text):\n",
        "  return TextBlob(text).sentiment.polarity\n",
        "  \n",
        "\n",
        "#Create new columns\n",
        "df['Subjectivity'] = df['Tweets'].apply(getSubjectivity)\n",
        "df['Polarity'] = df['Tweets'].apply(getPolarity)\n",
        "\n",
        "df\n"
      ],
      "execution_count": null,
      "outputs": [
        {
          "output_type": "execute_result",
          "data": {
            "text/html": [
              "<div>\n",
              "<style scoped>\n",
              "    .dataframe tbody tr th:only-of-type {\n",
              "        vertical-align: middle;\n",
              "    }\n",
              "\n",
              "    .dataframe tbody tr th {\n",
              "        vertical-align: top;\n",
              "    }\n",
              "\n",
              "    .dataframe thead th {\n",
              "        text-align: right;\n",
              "    }\n",
              "</style>\n",
              "<table border=\"1\" class=\"dataframe\">\n",
              "  <thead>\n",
              "    <tr style=\"text-align: right;\">\n",
              "      <th></th>\n",
              "      <th>Tweets</th>\n",
              "      <th>Subjectivity</th>\n",
              "      <th>Polarity</th>\n",
              "    </tr>\n",
              "  </thead>\n",
              "  <tbody>\n",
              "    <tr>\n",
              "      <th>0</th>\n",
              "      <td>i had an amazing day because his sucked lol</td>\n",
              "      <td>0.8</td>\n",
              "      <td>0.7</td>\n",
              "    </tr>\n",
              "  </tbody>\n",
              "</table>\n",
              "</div>"
            ],
            "text/plain": [
              "                                        Tweets  Subjectivity  Polarity\n",
              "0  i had an amazing day because his sucked lol           0.8       0.7"
            ]
          },
          "metadata": {
            "tags": []
          },
          "execution_count": 17
        }
      ]
    },
    {
      "cell_type": "code",
      "metadata": {
        "colab": {
          "base_uri": "https://localhost:8080/",
          "height": 264
        },
        "id": "ywleKlQnhIvD",
        "outputId": "62e4d6b3-d1d4-4da2-e07e-ab2f6bc31c4e"
      },
      "source": [
        "#Plot wordcloud\n",
        "allWords = ' '.join([twts for twts in df['Tweets']])\n",
        "Mask = np.array(Image.open(requests.get('http://clipart-library.com/image_gallery2/Twitter-PNG-Image.png', stream=True).raw))\n",
        "\n",
        "image_colors = ImageColorGenerator(Mask)\n",
        "wordCloud = WordCloud(width = 500, height = 300, random_state = 21, max_font_size = 110, mask = Mask).generate(allWords)\n",
        "\n",
        "plt.imshow(wordCloud.recolor(color_func=image_colors), interpolation =  \"hamming\")\n",
        "\n",
        "plt.axis('off')\n",
        "plt.show()\n"
      ],
      "execution_count": null,
      "outputs": [
        {
          "output_type": "display_data",
          "data": {
            "image/png": "[encoded data removed]",
            "text/plain": [
              "<Figure size 432x288 with 1 Axes>"
            ]
          },
          "metadata": {
            "tags": []
          }
        }
      ]
    },
    {
      "cell_type": "code",
      "metadata": {
        "colab": {
          "base_uri": "https://localhost:8080/",
          "height": 77
        },
        "id": "9yKQ-oQkh3Pt",
        "outputId": "fefa7ad5-2d32-4e8b-e568-3d1f98f40935"
      },
      "source": [
        "#Create a fn to compute the negative, neutral and positive analysis\n",
        "def getAnalysis(score):\n",
        "  if score < - 0.2:\n",
        "    return 'Negative'\n",
        "  elif score > 0.2:\n",
        "    return 'Positive'\n",
        "  else: \n",
        "    return 'Neutral'\n",
        "\n",
        "df['Analysis'] = df['Polarity'].apply(getAnalysis)\n",
        "\n",
        "df"
      ],
      "execution_count": null,
      "outputs": [
        {
          "output_type": "execute_result",
          "data": {
            "text/html": [
              "<div>\n",
              "<style scoped>\n",
              "    .dataframe tbody tr th:only-of-type {\n",
              "        vertical-align: middle;\n",
              "    }\n",
              "\n",
              "    .dataframe tbody tr th {\n",
              "        vertical-align: top;\n",
              "    }\n",
              "\n",
              "    .dataframe thead th {\n",
              "        text-align: right;\n",
              "    }\n",
              "</style>\n",
              "<table border=\"1\" class=\"dataframe\">\n",
              "  <thead>\n",
              "    <tr style=\"text-align: right;\">\n",
              "      <th></th>\n",
              "      <th>Tweets</th>\n",
              "      <th>Subjectivity</th>\n",
              "      <th>Polarity</th>\n",
              "      <th>Analysis</th>\n",
              "    </tr>\n",
              "  </thead>\n",
              "  <tbody>\n",
              "    <tr>\n",
              "      <th>0</th>\n",
              "      <td>i had an amazing day because his sucked lol</td>\n",
              "      <td>0.8</td>\n",
              "      <td>0.7</td>\n",
              "      <td>Positive</td>\n",
              "    </tr>\n",
              "  </tbody>\n",
              "</table>\n",
              "</div>"
            ],
            "text/plain": [
              "                                        Tweets  ...  Analysis\n",
              "0  i had an amazing day because his sucked lol  ...  Positive\n",
              "\n",
              "[1 rows x 4 columns]"
            ]
          },
          "metadata": {
            "tags": []
          },
          "execution_count": 19
        }
      ]
    },
    {
      "cell_type": "code",
      "metadata": {
        "colab": {
          "base_uri": "https://localhost:8080/"
        },
        "id": "zAqbWfqMGtih",
        "outputId": "5c4f0d72-5ddb-4456-b6f0-6b3000179378"
      },
      "source": [
        "# function to get all the hashtags\n",
        "# this will help us classify the tweets\n",
        "def Hashtags_Extract(x):\n",
        "    hashtags=[]\n",
        "    # Loop over the words in the tweet\n",
        "    for i in x:\n",
        "        ht = re.findall(r'#(\\w+)',i)\n",
        "        hashtags.append(ht)\n",
        "    return hashtags\n",
        "\n",
        "\n",
        "ht_positive = Hashtags_Extract(df['Tweets'][df['Analysis'] == 'Positive'])\n",
        "ht_negative = Hashtags_Extract(df['Tweets'][df['Analysis'] == 'Negative'])\n",
        "ht_neutral = Hashtags_Extract(df['Tweets'][df['Analysis'] == 'Neutral'])\n",
        "\n",
        "ht_positive_unnest = sum(ht_positive,[])\n",
        "ht_negative_unnest = sum(ht_negative,[])\n",
        "ht_neutral_unnest = sum(ht_neutral,[])\n",
        "\n",
        "ht_neutral_unnest"
      ],
      "execution_count": null,
      "outputs": [
        {
          "output_type": "execute_result",
          "data": {
            "text/plain": [
              "[]"
            ]
          },
          "metadata": {
            "tags": []
          },
          "execution_count": 9
        }
      ]
    },
    {
      "cell_type": "code",
      "metadata": {
        "id": "pYUfcDLQxI-S"
      },
      "source": [
        "\n",
        "# counting the frequency of positive hashtags\n",
        "\n",
        "word_freq_positive = nltk.FreqDist(ht_positive_unnest)\n",
        "word_freq_negative = nltk.FreqDist(ht_negative_unnest)\n",
        "word_freq_neutral = nltk.FreqDist(ht_neutral_unnest)\n",
        "\n",
        "# creating a dataframe for the most frequently used words in hashtags\n",
        "df_positive = pd.DataFrame({'Hashtags':list(word_freq_positive.keys()),'Count':list(word_freq_positive.values())})\n",
        "df_negative = pd.DataFrame({'Hashtags':list(word_freq_negative.keys()),'Count':list(word_freq_negative.values())})\n",
        "df_neutral = pd.DataFrame({'Hashtags':list(word_freq_neutral.keys()),'Count':list(word_freq_neutral.values())})\n",
        "\n",
        "def show_plot(sentiment, num_of_tags=1):\n",
        "  if sentiment == 'Positive':\n",
        "    df_positive_plot = df_positive.nlargest(num_of_tags, columns='Count')\n",
        "    sns.barplot(data=df_positive_plot,y='Hashtags', x='Count')\n",
        "    sns.despine()\n",
        "    plt.show()\n",
        "\n",
        "  elif sentiment == 'Negative':\n",
        "    df_negative_plot = df_negative.nlargest(num_of_tags,columns='Count') \n",
        "    sns.barplot(data=df_negative_plot,y='Hashtags', x='Count')\n",
        "    sns.despine()\n",
        "    plt.show()\n",
        "\n",
        "  else:\n",
        "    df_neutral_plot = df_neutral.nlargest(num_of_tags,columns='Count') \n",
        "    sns.barplot(data=df_neutral,y='Hashtags', x='Count')\n",
        "    sns.despine()\n",
        "    plt.show()"
      ],
      "execution_count": null,
      "outputs": []
    },
    {
      "cell_type": "code",
      "metadata": {
        "colab": {
          "base_uri": "https://localhost:8080/"
        },
        "id": "HxQ3ZGDxgdrP",
        "outputId": "e58aa0cb-80c3-4625-916d-598c48d5707e"
      },
      "source": [
        "# print all statements in increasing order of positivity\n",
        "def printHistory(asc, num = 1):\n",
        "  j = 1\n",
        "  sortedDF = df.sort_values(by = ['Polarity'], axis=0, ascending = asc)\n",
        "  sortedDF = sortedDF.reset_index(drop=True)\n",
        "  sortedDF = sortedDF[['Tweets', 'Analysis']].iloc[:num]\n",
        "  print(sortedDF)\n",
        "  \n",
        "  # for tweet in sortedDF[['Tweets', 'Analysis']]:\n",
        "  #   if (j > num):\n",
        "  #     print(\"breaking out\")\n",
        "  #     break\n",
        "  #   print(str(j) + '. ' + sortedDF['Tweets'][j - 1] + \" \" + sortedDF['Analysis'][j - 1])\n",
        "  #   print()\n",
        "  #   j = j + 1\n",
        "  \n",
        "\n",
        "  # for tweet in sortedDF['Tweets']:\n",
        "  #   if (j > num):\n",
        "  #     print(\"breaking out\")\n",
        "  #     break\n",
        "  #   print(str(j) + '. ' + tweet + \" \" + sortedDF['Analysis'][j - 1])\n",
        "  #   print()\n",
        "  #   j = j + 1\n",
        "\n",
        "printHistory(False, 2)"
      ],
      "execution_count": null,
      "outputs": [
        {
          "output_type": "stream",
          "text": [
            "                                  Tweets Analysis\n",
            "0  he had a terrible day, and I am glad!  Neutral\n"
          ],
          "name": "stdout"
        }
      ]
    },
    {
      "cell_type": "code",
      "metadata": {
        "colab": {
          "base_uri": "https://localhost:8080/",
          "height": 441
        },
        "id": "k_kSXIZFhX_-",
        "outputId": "758690c4-6b35-4c1b-b24c-0555434e9527"
      },
      "source": [
        "# Plot the polarity and subjectivity\n",
        "plt.figure(figsize=(8,6)) \n",
        "for i in range(0, df.shape[0]):\n",
        "  plt.scatter(df[\"Polarity\"][i], df[\"Subjectivity\"][i], color='Blue') \n",
        "# plt.scatter(x,y,color)   \n",
        "plt.title('Sentiment Analysis') \n",
        "plt.xlabel('Polarity') \n",
        "plt.ylabel('Subjectivity') \n",
        "plt.show()"
      ],
      "execution_count": null,
      "outputs": [
        {
          "output_type": "display_data",
          "data": {
            "image/png": "[encoded data removed]",
            "text/plain": [
              "<Figure size 576x432 with 1 Axes>"
            ]
          },
          "metadata": {
            "tags": []
          }
        }
      ]
    },
    {
      "cell_type": "code",
      "metadata": {
        "colab": {
          "base_uri": "https://localhost:8080/"
        },
        "id": "OhX7wkfdiPs5",
        "outputId": "8d1400e5-962e-4756-cc76-6db95bba2dfa"
      },
      "source": [
        "# Print the percentage of different types of tweets\n",
        "sentiments = ['Positive', 'Neutral', 'Negative']\n",
        "for sentiment in sentiments:\n",
        "  postweets = df[df.Analysis == sentiment]\n",
        "  postweets = postweets['Tweets']\n",
        "  print(sentiment + \" tweets: \" + str(round( (postweets.shape[0] / df.shape[0]) * 100 , 1)))"
      ],
      "execution_count": null,
      "outputs": [
        {
          "output_type": "stream",
          "text": [
            "Positive tweets: 0.0\n",
            "Neutral tweets: 100.0\n",
            "Negative tweets: 0.0\n"
          ],
          "name": "stdout"
        }
      ]
    },
    {
      "cell_type": "code",
      "metadata": {
        "id": "PNhM-dv6isSg"
      },
      "source": [
        "# end of code"
      ],
      "execution_count": null,
      "outputs": []
    }
  ]
}